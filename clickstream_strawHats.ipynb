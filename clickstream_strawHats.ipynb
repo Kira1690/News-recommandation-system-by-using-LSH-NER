{
  "nbformat": 4,
  "nbformat_minor": 0,
  "metadata": {
    "colab": {
      "name": "clickstream.ipynb",
      "provenance": [],
      "collapsed_sections": []
    },
    "kernelspec": {
      "name": "python3",
      "display_name": "Python 3"
    },
    "language_info": {
      "name": "python"
    },
    "accelerator": "GPU"
  },
  "cells": [
    {
      "cell_type": "markdown",
      "metadata": {
        "id": "0Fvpx4OBfm1m"
      },
      "source": [
        ""
      ]
    },
    {
      "cell_type": "code",
      "metadata": {
        "id": "V41QEVNs5QjF"
      },
      "source": [
        "import pandas as pd\n",
        "import numpy as np\n",
        "import matplotlib.pyplot as plt\n",
        "import seaborn as sns \n",
        "%matplotlib inline\n",
        "import gensim\n",
        "import pickle\n",
        "import random\n",
        "import itertools"
      ],
      "execution_count": null,
      "outputs": []
    },
    {
      "cell_type": "markdown",
      "metadata": {
        "id": "TT9pJPsyfkr0"
      },
      "source": [
        ""
      ]
    },
    {
      "cell_type": "code",
      "metadata": {
        "id": "qneasKuQnkIU"
      },
      "source": [
        ""
      ],
      "execution_count": null,
      "outputs": []
    },
    {
      "cell_type": "code",
      "metadata": {
        "colab": {
          "base_uri": "https://localhost:8080/"
        },
        "id": "mOUItgStnNbz",
        "outputId": "7b354ab2-a38d-4217-e20d-cf4522c4aecd"
      },
      "source": [
        "from google.colab import drive\n",
        "drive.mount('/content/gdrive')"
      ],
      "execution_count": null,
      "outputs": [
        {
          "output_type": "stream",
          "text": [
            "Drive already mounted at /content/gdrive; to attempt to forcibly remount, call drive.mount(\"/content/gdrive\", force_remount=True).\n"
          ],
          "name": "stdout"
        }
      ]
    },
    {
      "cell_type": "code",
      "metadata": {
        "id": "aimf-3DA9lzT",
        "colab": {
          "base_uri": "https://localhost:8080/",
          "height": 1000
        },
        "outputId": "c737d090-8ef3-4712-b125-7d51b49688f9"
      },
      "source": [
        "data = pd.read_csv('/content/gdrive/MyDrive/StrawHats projects/News scraping.csv')\n",
        "data"
      ],
      "execution_count": null,
      "outputs": [
        {
          "output_type": "execute_result",
          "data": {
            "text/html": [
              "<div>\n",
              "<style scoped>\n",
              "    .dataframe tbody tr th:only-of-type {\n",
              "        vertical-align: middle;\n",
              "    }\n",
              "\n",
              "    .dataframe tbody tr th {\n",
              "        vertical-align: top;\n",
              "    }\n",
              "\n",
              "    .dataframe thead th {\n",
              "        text-align: right;\n",
              "    }\n",
              "</style>\n",
              "<table border=\"1\" class=\"dataframe\">\n",
              "  <thead>\n",
              "    <tr style=\"text-align: right;\">\n",
              "      <th></th>\n",
              "      <th>Category</th>\n",
              "      <th>Sub_Category</th>\n",
              "      <th>Language</th>\n",
              "      <th>Date</th>\n",
              "      <th>Time</th>\n",
              "      <th>Title</th>\n",
              "      <th>Synopsis</th>\n",
              "      <th>News</th>\n",
              "      <th>Author/Publisher</th>\n",
              "      <th>Source Link</th>\n",
              "    </tr>\n",
              "  </thead>\n",
              "  <tbody>\n",
              "    <tr>\n",
              "      <th>0</th>\n",
              "      <td>Sports</td>\n",
              "      <td>Badminton</td>\n",
              "      <td>English</td>\n",
              "      <td>January 27, 2021</td>\n",
              "      <td>4:51:08 pm</td>\n",
              "      <td>BWF World Tour Finals: Fighting PV Sindhu lose...</td>\n",
              "      <td>This was PV Sindhu's 16th defeat to Tai Tzu Yi...</td>\n",
              "      <td>World champion shuttler P V Sindhu went down f...</td>\n",
              "      <td>Pti</td>\n",
              "      <td>https://indianexpress.com/article/sports/badmi...</td>\n",
              "    </tr>\n",
              "    <tr>\n",
              "      <th>1</th>\n",
              "      <td>Sports</td>\n",
              "      <td>Badminton</td>\n",
              "      <td>English</td>\n",
              "      <td>January 27, 2021</td>\n",
              "      <td>8:30:22 am</td>\n",
              "      <td>World Tour Finals Preview: PV Sindhu, recharge...</td>\n",
              "      <td>With the Indian having played more matches tha...</td>\n",
              "      <td>Carolina Marin (50 total) played 24 tournament...</td>\n",
              "      <td>Shivani naik</td>\n",
              "      <td>https://indianexpress.com/article/sports/badmi...</td>\n",
              "    </tr>\n",
              "    <tr>\n",
              "      <th>2</th>\n",
              "      <td>Sports</td>\n",
              "      <td>Badminton</td>\n",
              "      <td>English</td>\n",
              "      <td>January 24, 2021</td>\n",
              "      <td>7:03:06 pm</td>\n",
              "      <td>Satwiksairaj’s offence gets neutralised by sav...</td>\n",
              "      <td>Satwiksairaj Rankireddy uses big smash to kill...</td>\n",
              "      <td>One would have to be blind to not figure that ...</td>\n",
              "      <td>Shivani naik</td>\n",
              "      <td>https://indianexpress.com/article/sports/badmi...</td>\n",
              "    </tr>\n",
              "    <tr>\n",
              "      <th>3</th>\n",
              "      <td>Sports</td>\n",
              "      <td>Badminton</td>\n",
              "      <td>English</td>\n",
              "      <td>January 23, 2021</td>\n",
              "      <td>7:58:44 pm</td>\n",
              "      <td>Dream run of Indian doubles pairs end with sem...</td>\n",
              "      <td>Up against the world number three Thai pair, S...</td>\n",
              "      <td>The Indian mixed doubles pair of Satwiksairaj ...</td>\n",
              "      <td>Pti</td>\n",
              "      <td>https://indianexpress.com/article/sports/badmi...</td>\n",
              "    </tr>\n",
              "    <tr>\n",
              "      <th>4</th>\n",
              "      <td>Sports</td>\n",
              "      <td>Badminton</td>\n",
              "      <td>English</td>\n",
              "      <td>January 23, 2021</td>\n",
              "      <td>8:42:32 pm</td>\n",
              "      <td>Satwik-Chirag’s impressive run ends with semif...</td>\n",
              "      <td>The Indian pair had participated in Super 1000...</td>\n",
              "      <td>Tokyo Olympics medal contender Satwiksairaj Ra...</td>\n",
              "      <td>Pti</td>\n",
              "      <td>https://indianexpress.com/article/sports/badmi...</td>\n",
              "    </tr>\n",
              "    <tr>\n",
              "      <th>...</th>\n",
              "      <td>...</td>\n",
              "      <td>...</td>\n",
              "      <td>...</td>\n",
              "      <td>...</td>\n",
              "      <td>...</td>\n",
              "      <td>...</td>\n",
              "      <td>...</td>\n",
              "      <td>...</td>\n",
              "      <td>...</td>\n",
              "      <td>...</td>\n",
              "    </tr>\n",
              "    <tr>\n",
              "      <th>5918</th>\n",
              "      <td>Entertainment</td>\n",
              "      <td>Box-office-collection</td>\n",
              "      <td>English</td>\n",
              "      <td>March 29, 2019</td>\n",
              "      <td>1:19:53 pm</td>\n",
              "      <td>Kesari box office collection Day 8: Akshay Kum...</td>\n",
              "      <td>Kesari box office collection Day 8: Akshay Kum...</td>\n",
              "      <td>Kesari, starring Akshay Kumar in the lead role...</td>\n",
              "      <td>Entertainment desk</td>\n",
              "      <td>https://indianexpress.com/article/entertainmen...</td>\n",
              "    </tr>\n",
              "    <tr>\n",
              "      <th>5919</th>\n",
              "      <td>Entertainment</td>\n",
              "      <td>Box-office-collection</td>\n",
              "      <td>English</td>\n",
              "      <td>March 29, 2019</td>\n",
              "      <td>8:12:26 am</td>\n",
              "      <td>Junglee box office prediction: Vidyut Jammwal ...</td>\n",
              "      <td>Junglee box office prediction: Junglee will ha...</td>\n",
              "      <td>Vidyut Jammwal’s Junglee has caught the fancy ...</td>\n",
              "      <td>Arushi jain</td>\n",
              "      <td>https://indianexpress.com/article/entertainmen...</td>\n",
              "    </tr>\n",
              "    <tr>\n",
              "      <th>5920</th>\n",
              "      <td>Entertainment</td>\n",
              "      <td>Box-office-collection</td>\n",
              "      <td>English</td>\n",
              "      <td>March 28, 2019</td>\n",
              "      <td>10:47:46 am</td>\n",
              "      <td>Luka Chuppi box office collection Day 26: Kart...</td>\n",
              "      <td>Luka Chuppi box office collection Day 26: Krit...</td>\n",
              "      <td>Kriti Sanon and Kartik Aaryan’s film Luka Chup...</td>\n",
              "      <td>Entertainment desk</td>\n",
              "      <td>https://indianexpress.com/article/entertainmen...</td>\n",
              "    </tr>\n",
              "    <tr>\n",
              "      <th>5921</th>\n",
              "      <td>Entertainment</td>\n",
              "      <td>Box-office-collection</td>\n",
              "      <td>English</td>\n",
              "      <td>March 28, 2019</td>\n",
              "      <td>9:14:42 am</td>\n",
              "      <td>Badla box office collection day 20: Going gets...</td>\n",
              "      <td>Badla box office collection day 20: Taapsee Pa...</td>\n",
              "      <td>After more than 2 weeks, Taapsee Pannu’s film ...</td>\n",
              "      <td>Entertainment desk</td>\n",
              "      <td>https://indianexpress.com/article/entertainmen...</td>\n",
              "    </tr>\n",
              "    <tr>\n",
              "      <th>5922</th>\n",
              "      <td>Entertainment</td>\n",
              "      <td>Box-office-collection</td>\n",
              "      <td>English</td>\n",
              "      <td>March 28, 2019</td>\n",
              "      <td>1:08:06 pm</td>\n",
              "      <td>Kesari box office collection Day 7: Akshay Kum...</td>\n",
              "      <td>Kesari box office collection Day 7: Akshay Kum...</td>\n",
              "      <td>Akshay Kumar starrer Kesari has become the fas...</td>\n",
              "      <td>Entertainment desk</td>\n",
              "      <td>https://indianexpress.com/article/entertainmen...</td>\n",
              "    </tr>\n",
              "  </tbody>\n",
              "</table>\n",
              "<p>5923 rows × 10 columns</p>\n",
              "</div>"
            ],
            "text/plain": [
              "           Category  ...                                        Source Link\n",
              "0            Sports  ...  https://indianexpress.com/article/sports/badmi...\n",
              "1            Sports  ...  https://indianexpress.com/article/sports/badmi...\n",
              "2            Sports  ...  https://indianexpress.com/article/sports/badmi...\n",
              "3            Sports  ...  https://indianexpress.com/article/sports/badmi...\n",
              "4            Sports  ...  https://indianexpress.com/article/sports/badmi...\n",
              "...             ...  ...                                                ...\n",
              "5918  Entertainment  ...  https://indianexpress.com/article/entertainmen...\n",
              "5919  Entertainment  ...  https://indianexpress.com/article/entertainmen...\n",
              "5920  Entertainment  ...  https://indianexpress.com/article/entertainmen...\n",
              "5921  Entertainment  ...  https://indianexpress.com/article/entertainmen...\n",
              "5922  Entertainment  ...  https://indianexpress.com/article/entertainmen...\n",
              "\n",
              "[5923 rows x 10 columns]"
            ]
          },
          "metadata": {
            "tags": []
          },
          "execution_count": 76
        }
      ]
    },
    {
      "cell_type": "code",
      "metadata": {
        "id": "OpmvSg1vPLTs"
      },
      "source": [
        "\n",
        "\n",
        "# avg. reading speed (200 wpm)\n",
        "speed=200\n",
        "import statistics\n",
        "\n"
      ],
      "execution_count": null,
      "outputs": []
    },
    {
      "cell_type": "code",
      "metadata": {
        "colab": {
          "base_uri": "https://localhost:8080/"
        },
        "id": "xaTl1BY8Pcq0",
        "outputId": "9ac9132d-e6b2-4277-9bdb-976a6506bdb2"
      },
      "source": [
        "l1=[]\n",
        "for i in range(len(data)):\n",
        "    length1 = (len(data.News[i])/200)*0.1\n",
        "    l1.append(length1)\n",
        "time_array1=np.asarray(l1)\n",
        "mean_time1=np.mean(time_array1)\n",
        "print(mean_time1)\n",
        "std_dev1=np.std(time_array1)\n",
        "print(std_dev1)"
      ],
      "execution_count": null,
      "outputs": [
        {
          "output_type": "stream",
          "text": [
            "1.4864495188249198\n",
            "0.8405208119599761\n"
          ],
          "name": "stdout"
        }
      ]
    },
    {
      "cell_type": "code",
      "metadata": {
        "colab": {
          "base_uri": "https://localhost:8080/"
        },
        "id": "ALDXi0NhQhpe",
        "outputId": "79fa6cbc-538e-4c91-cd2d-a07f9387904d"
      },
      "source": [
        "l2=[]\n",
        "for i in range(len(data)):\n",
        "    length2 = (len(data.News[i])/200)*0.5\n",
        "    l2.append(length2)\n",
        "time_array2=np.asarray(l2)\n",
        "mean_time2=np.mean(time_array2)\n",
        "print(mean_time2)\n",
        "std_dev2=np.std(time_array2)\n",
        "print(std_dev2)"
      ],
      "execution_count": null,
      "outputs": [
        {
          "output_type": "stream",
          "text": [
            "7.4322475941246005\n",
            "4.20260405979988\n"
          ],
          "name": "stdout"
        }
      ]
    },
    {
      "cell_type": "code",
      "metadata": {
        "colab": {
          "base_uri": "https://localhost:8080/"
        },
        "id": "Cl0UnFJgQne8",
        "outputId": "e1461944-b9b7-4d3d-eebd-96465154e88d"
      },
      "source": [
        "l3=[]\n",
        "for i in range(len(data)):\n",
        "    length3 = (len(data.News[i])/200)\n",
        "    l3.append(length3)\n",
        "time_array3=np.asarray(l3)\n",
        "mean_time3=np.mean(time_array3)\n",
        "print(mean_time3)\n",
        "std_dev3=np.std(time_array3)\n",
        "print(std_dev3)"
      ],
      "execution_count": null,
      "outputs": [
        {
          "output_type": "stream",
          "text": [
            "14.864495188249201\n",
            "8.40520811959976\n"
          ],
          "name": "stdout"
        }
      ]
    },
    {
      "cell_type": "code",
      "metadata": {
        "id": "J50TpqmXQtLt"
      },
      "source": [
        "import scipy.stats\n",
        "mycomps = (scipy.stats.norm(mean_time1, std_dev1),scipy.stats.norm(mean_time2, std_dev2),scipy.stats.norm(mean_time3, std_dev3))\n",
        "priors = [0.3,0.4,0.3]"
      ],
      "execution_count": null,
      "outputs": []
    },
    {
      "cell_type": "code",
      "metadata": {
        "id": "G1E_h_29QxUi"
      },
      "source": [
        "def myMixture(x,priors,myComponents):\n",
        "    s = 0\n",
        "    for comp,prior in zip(myComponents,priors):\n",
        "        s += comp.pdf(x)*prior\n",
        "    return s"
      ],
      "execution_count": null,
      "outputs": []
    },
    {
      "cell_type": "code",
      "metadata": {
        "id": "pljzA3nWQ1BG"
      },
      "source": [
        "import numpy as np\n",
        "x_data = np.linspace(0.0,20,1000)"
      ],
      "execution_count": null,
      "outputs": []
    },
    {
      "cell_type": "code",
      "metadata": {
        "id": "bCigYqtRQ41Y"
      },
      "source": [
        "y_data = myMixture(x_data,priors,mycomps)"
      ],
      "execution_count": null,
      "outputs": []
    },
    {
      "cell_type": "code",
      "metadata": {
        "colab": {
          "base_uri": "https://localhost:8080/",
          "height": 282
        },
        "id": "dBT5wJFEQ7tF",
        "outputId": "c13cb3ca-6a78-465d-8c44-647542eb35e5"
      },
      "source": [
        "import matplotlib.pyplot as plt\n",
        "%matplotlib inline\n",
        "plt.scatter(x_data,y_data)"
      ],
      "execution_count": null,
      "outputs": [
        {
          "output_type": "execute_result",
          "data": {
            "text/plain": [
              "<matplotlib.collections.PathCollection at 0x7f82f5c0e910>"
            ]
          },
          "metadata": {
            "tags": []
          },
          "execution_count": 58
        },
        {
          "output_type": "display_data",
          "data": {
            "image/png": "[encoded data removed]",
            "text/plain": [
              "<Figure size 432x288 with 1 Axes>"
            ]
          },
          "metadata": {
            "tags": [],
            "needs_background": "light"
          }
        }
      ]
    },
    {
      "cell_type": "code",
      "metadata": {
        "id": "DJCiJGL4RDnp"
      },
      "source": [
        "def LLE(data,priors,myComponents):\n",
        "    probs = myMixture(data,priors,myComponents)\n",
        "    lle = sum(np.log(probs))\n",
        "    return lle"
      ],
      "execution_count": null,
      "outputs": []
    },
    {
      "cell_type": "code",
      "metadata": {
        "colab": {
          "base_uri": "https://localhost:8080/"
        },
        "id": "Y-DHt2ZQRFmj",
        "outputId": "d7add168-1fb3-4499-d85f-d77e92f7682d"
      },
      "source": [
        "data = [0.5,0.8,1,5,6,9]\n",
        "print(myMixture(data,priors,mycomps))\n",
        "LLE(data,priors,mycomps)"
      ],
      "execution_count": null,
      "outputs": [
        {
          "output_type": "stream",
          "text": [
            "[0.08456073 0.11645324 0.13585706 0.03929    0.04399378 0.04658152]\n"
          ],
          "name": "stdout"
        },
        {
          "output_type": "execute_result",
          "data": {
            "text/plain": [
              "-16.043746586904238"
            ]
          },
          "metadata": {
            "tags": []
          },
          "execution_count": 60
        }
      ]
    },
    {
      "cell_type": "code",
      "metadata": {
        "colab": {
          "base_uri": "https://localhost:8080/"
        },
        "id": "YMXRZCY1RFpj",
        "outputId": "40751cb9-6908-4921-9a4d-c84fbf80a346"
      },
      "source": [
        "data = [1,3,1,3,7,7]\n",
        "print(myMixture(data,priors,mycomps))\n",
        "LLE(data,priors,mycomps)"
      ],
      "execution_count": null,
      "outputs": [
        {
          "output_type": "stream",
          "text": [
            "[0.13585706 0.05517328 0.13585706 0.05517328 0.04696192 0.04696192]\n"
          ],
          "name": "stdout"
        },
        {
          "output_type": "execute_result",
          "data": {
            "text/plain": [
              "-15.903693550188834"
            ]
          },
          "metadata": {
            "tags": []
          },
          "execution_count": 61
        }
      ]
    },
    {
      "cell_type": "code",
      "metadata": {
        "id": "ckmDOb6rRFsf"
      },
      "source": [
        "data = np.random.rand(100000)*20"
      ],
      "execution_count": null,
      "outputs": []
    },
    {
      "cell_type": "code",
      "metadata": {
        "colab": {
          "base_uri": "https://localhost:8080/",
          "height": 369
        },
        "id": "dPvA4ZsFRFv0",
        "outputId": "e3655a47-f4c5-4bc4-b4d3-70a8f0ab881c"
      },
      "source": [
        "plt.hist(data)"
      ],
      "execution_count": null,
      "outputs": [
        {
          "output_type": "execute_result",
          "data": {
            "text/plain": [
              "(array([10005., 10085., 10021., 10138., 10026.,  9912.,  9977.,  9864.,\n",
              "         9919., 10053.]),\n",
              " array([4.01484764e-04, 2.00035683e+00, 4.00031217e+00, 6.00026752e+00,\n",
              "        8.00022286e+00, 1.00001782e+01, 1.20001335e+01, 1.40000889e+01,\n",
              "        1.60000442e+01, 1.79999996e+01, 1.99999549e+01]),\n",
              " <a list of 10 Patch objects>)"
            ]
          },
          "metadata": {
            "tags": []
          },
          "execution_count": 63
        },
        {
          "output_type": "display_data",
          "data": {
            "image/png": "[encoded data removed]",
            "text/plain": [
              "<Figure size 432x288 with 1 Axes>"
            ]
          },
          "metadata": {
            "tags": [],
            "needs_background": "light"
          }
        }
      ]
    },
    {
      "cell_type": "code",
      "metadata": {
        "colab": {
          "base_uri": "https://localhost:8080/"
        },
        "id": "0WZAe6qGRF1P",
        "outputId": "083fafa9-c0ba-43cf-c3b6-c3d8e19f2b40"
      },
      "source": [
        "LLE(data,priors,mycomps)/data.shape"
      ],
      "execution_count": null,
      "outputs": [
        {
          "output_type": "execute_result",
          "data": {
            "text/plain": [
              "array([-3.33412246])"
            ]
          },
          "metadata": {
            "tags": []
          },
          "execution_count": 64
        }
      ]
    },
    {
      "cell_type": "code",
      "metadata": {
        "id": "5--typrRRF33"
      },
      "source": [
        "def genSample(sample_size,priors,myComponents):\n",
        "    myData = np.empty( shape=(0) )\n",
        "    for comp,prior in zip(myComponents,priors):\n",
        "        new_data = comp.rvs(int(sample_size*prior))\n",
        "        myData = np.append(myData,new_data)\n",
        "    return myData"
      ],
      "execution_count": null,
      "outputs": []
    },
    {
      "cell_type": "code",
      "metadata": {
        "id": "Z0HS78GnRYgH"
      },
      "source": [
        "tdata = genSample(10,priors,mycomps)\n",
        "LLE(data,priors,mycomps)/data.shape\n",
        "tdata[tdata<0]=0"
      ],
      "execution_count": null,
      "outputs": []
    },
    {
      "cell_type": "code",
      "metadata": {
        "colab": {
          "base_uri": "https://localhost:8080/"
        },
        "id": "pl_F9cseRYit",
        "outputId": "13399d36-e197-45c4-a460-77bb031caf2c"
      },
      "source": [
        "print(tdata)"
      ],
      "execution_count": null,
      "outputs": [
        {
          "output_type": "stream",
          "text": [
            "[ 1.47426578  1.7648611   0.63500373  0.          7.15196863  8.80666253\n",
            " 11.00516424 10.90922923 17.25082648 16.75450607]\n"
          ],
          "name": "stdout"
        }
      ]
    },
    {
      "cell_type": "code",
      "metadata": {
        "colab": {
          "base_uri": "https://localhost:8080/",
          "height": 369
        },
        "id": "c4cMNP2NRYk1",
        "outputId": "b27cd85b-052c-40bd-a5b3-e5506c58ab3f"
      },
      "source": [
        "plt.hist(data)"
      ],
      "execution_count": null,
      "outputs": [
        {
          "output_type": "execute_result",
          "data": {
            "text/plain": [
              "(array([10005., 10085., 10021., 10138., 10026.,  9912.,  9977.,  9864.,\n",
              "         9919., 10053.]),\n",
              " array([4.01484764e-04, 2.00035683e+00, 4.00031217e+00, 6.00026752e+00,\n",
              "        8.00022286e+00, 1.00001782e+01, 1.20001335e+01, 1.40000889e+01,\n",
              "        1.60000442e+01, 1.79999996e+01, 1.99999549e+01]),\n",
              " <a list of 10 Patch objects>)"
            ]
          },
          "metadata": {
            "tags": []
          },
          "execution_count": 68
        },
        {
          "output_type": "display_data",
          "data": {
            "image/png": "[encoded data removed]",
            "text/plain": [
              "<Figure size 432x288 with 1 Axes>"
            ]
          },
          "metadata": {
            "tags": [],
            "needs_background": "light"
          }
        }
      ]
    },
    {
      "cell_type": "code",
      "metadata": {
        "colab": {
          "base_uri": "https://localhost:8080/"
        },
        "id": "aGlVxp4RRYoO",
        "outputId": "9c9adfde-5a07-4de3-bffa-22f9254e5107"
      },
      "source": [
        "#Gen time spent\n",
        "time=[]\n",
        "for i in range(150):\n",
        "    time.append(tdata)\n",
        "time_sp=np.array(time).ravel()\n",
        "time_sp.shape"
      ],
      "execution_count": null,
      "outputs": [
        {
          "output_type": "execute_result",
          "data": {
            "text/plain": [
              "(1500,)"
            ]
          },
          "metadata": {
            "tags": []
          },
          "execution_count": 69
        }
      ]
    },
    {
      "cell_type": "code",
      "metadata": {
        "id": "HgQclt_sRmgj"
      },
      "source": [
        "click_stream=np.random.binomial(1,0.7,1500)"
      ],
      "execution_count": null,
      "outputs": []
    },
    {
      "cell_type": "code",
      "metadata": {
        "colab": {
          "base_uri": "https://localhost:8080/"
        },
        "id": "ACArBD9CRmi_",
        "outputId": "f2f03459-a391-436b-cdf5-47c3ca9edde0"
      },
      "source": [
        "time_spent=click_stream*time_sp    \n",
        "time_spent.shape[0]"
      ],
      "execution_count": null,
      "outputs": [
        {
          "output_type": "execute_result",
          "data": {
            "text/plain": [
              "1500"
            ]
          },
          "metadata": {
            "tags": []
          },
          "execution_count": 71
        }
      ]
    },
    {
      "cell_type": "code",
      "metadata": {
        "id": "rLjSqwZqYKvd",
        "colab": {
          "base_uri": "https://localhost:8080/"
        },
        "outputId": "97816a83-db14-4392-9c46-5f43bb2066b2"
      },
      "source": [
        "def click_stream(num , num_user):\n",
        "  time=[]\n",
        "  for i in range(num*num_user):\n",
        "    time.append(tdata)\n",
        "  time_sp=np.array(time).ravel()\n",
        "  shape = time_sp.shape[0]\n",
        "  click_stream=np.random.binomial(1,0.7,shape)\n",
        "  time_spent=click_stream*time_sp \n",
        "  usr_id_ls = []\n",
        "  for i in range(1, (num_user)+1):\n",
        "    i = str(i)\n",
        "    shape = int(shape)\n",
        "    num_user = int(num_user)\n",
        "    usr_id = 'usr_id'+ i\n",
        "    n = shape/(num_user)\n",
        "    n = int(n)\n",
        "    usr_id= np.empty(n)\n",
        "    usr_id.fill(i)\n",
        "    usr_id_ls.append(usr_id)\n",
        "  return shape , click_stream, time_spent ,usr_id_ls,n\n",
        "\n",
        "click_stream_data = click_stream(150 , 100)\n",
        "click_stream = click_stream_data[1]\n",
        "time_spent = click_stream_data[2]\n",
        "user = click_stream_data[3]\n",
        "usr_id = list(itertools.chain.from_iterable(user))\n",
        "print(click_stream_data[0])\n"
      ],
      "execution_count": null,
      "outputs": [
        {
          "output_type": "stream",
          "text": [
            "150000\n"
          ],
          "name": "stdout"
        }
      ]
    },
    {
      "cell_type": "code",
      "metadata": {
        "id": "VL7vpMDXV5k_"
      },
      "source": [
        "#Generating UserID\n",
        "usr_id1=np.empty(500)\n",
        "usr_id1.fill(1)\n",
        "usr_id2=np.empty(500)\n",
        "usr_id2.fill(2)\n",
        "usr_id3=np.empty(500)\n",
        "usr_id3.fill(3)\n",
        "usr_id = np.concatenate((usr_id1,usr_id2,usr_id3))"
      ],
      "execution_count": null,
      "outputs": []
    },
    {
      "cell_type": "code",
      "metadata": {
        "colab": {
          "base_uri": "https://localhost:8080/",
          "height": 1000
        },
        "id": "tz92Q-hpMbAG",
        "outputId": "1ffdfe2f-a43f-4697-dc25-da38ab83dd25"
      },
      "source": [
        "data['cat'] = pd.factorize(data['Category'])[0]\n",
        "data"
      ],
      "execution_count": null,
      "outputs": [
        {
          "output_type": "execute_result",
          "data": {
            "text/html": [
              "<div>\n",
              "<style scoped>\n",
              "    .dataframe tbody tr th:only-of-type {\n",
              "        vertical-align: middle;\n",
              "    }\n",
              "\n",
              "    .dataframe tbody tr th {\n",
              "        vertical-align: top;\n",
              "    }\n",
              "\n",
              "    .dataframe thead th {\n",
              "        text-align: right;\n",
              "    }\n",
              "</style>\n",
              "<table border=\"1\" class=\"dataframe\">\n",
              "  <thead>\n",
              "    <tr style=\"text-align: right;\">\n",
              "      <th></th>\n",
              "      <th>Category</th>\n",
              "      <th>Sub_Category</th>\n",
              "      <th>Language</th>\n",
              "      <th>Date</th>\n",
              "      <th>Time</th>\n",
              "      <th>Title</th>\n",
              "      <th>Synopsis</th>\n",
              "      <th>News</th>\n",
              "      <th>Author/Publisher</th>\n",
              "      <th>Source Link</th>\n",
              "      <th>cat</th>\n",
              "    </tr>\n",
              "  </thead>\n",
              "  <tbody>\n",
              "    <tr>\n",
              "      <th>0</th>\n",
              "      <td>Sports</td>\n",
              "      <td>Badminton</td>\n",
              "      <td>English</td>\n",
              "      <td>January 27, 2021</td>\n",
              "      <td>4:51:08 pm</td>\n",
              "      <td>BWF World Tour Finals: Fighting PV Sindhu lose...</td>\n",
              "      <td>This was PV Sindhu's 16th defeat to Tai Tzu Yi...</td>\n",
              "      <td>World champion shuttler P V Sindhu went down f...</td>\n",
              "      <td>Pti</td>\n",
              "      <td>https://indianexpress.com/article/sports/badmi...</td>\n",
              "      <td>0</td>\n",
              "    </tr>\n",
              "    <tr>\n",
              "      <th>1</th>\n",
              "      <td>Sports</td>\n",
              "      <td>Badminton</td>\n",
              "      <td>English</td>\n",
              "      <td>January 27, 2021</td>\n",
              "      <td>8:30:22 am</td>\n",
              "      <td>World Tour Finals Preview: PV Sindhu, recharge...</td>\n",
              "      <td>With the Indian having played more matches tha...</td>\n",
              "      <td>Carolina Marin (50 total) played 24 tournament...</td>\n",
              "      <td>Shivani naik</td>\n",
              "      <td>https://indianexpress.com/article/sports/badmi...</td>\n",
              "      <td>0</td>\n",
              "    </tr>\n",
              "    <tr>\n",
              "      <th>2</th>\n",
              "      <td>Sports</td>\n",
              "      <td>Badminton</td>\n",
              "      <td>English</td>\n",
              "      <td>January 24, 2021</td>\n",
              "      <td>7:03:06 pm</td>\n",
              "      <td>Satwiksairaj’s offence gets neutralised by sav...</td>\n",
              "      <td>Satwiksairaj Rankireddy uses big smash to kill...</td>\n",
              "      <td>One would have to be blind to not figure that ...</td>\n",
              "      <td>Shivani naik</td>\n",
              "      <td>https://indianexpress.com/article/sports/badmi...</td>\n",
              "      <td>0</td>\n",
              "    </tr>\n",
              "    <tr>\n",
              "      <th>3</th>\n",
              "      <td>Sports</td>\n",
              "      <td>Badminton</td>\n",
              "      <td>English</td>\n",
              "      <td>January 23, 2021</td>\n",
              "      <td>7:58:44 pm</td>\n",
              "      <td>Dream run of Indian doubles pairs end with sem...</td>\n",
              "      <td>Up against the world number three Thai pair, S...</td>\n",
              "      <td>The Indian mixed doubles pair of Satwiksairaj ...</td>\n",
              "      <td>Pti</td>\n",
              "      <td>https://indianexpress.com/article/sports/badmi...</td>\n",
              "      <td>0</td>\n",
              "    </tr>\n",
              "    <tr>\n",
              "      <th>4</th>\n",
              "      <td>Sports</td>\n",
              "      <td>Badminton</td>\n",
              "      <td>English</td>\n",
              "      <td>January 23, 2021</td>\n",
              "      <td>8:42:32 pm</td>\n",
              "      <td>Satwik-Chirag’s impressive run ends with semif...</td>\n",
              "      <td>The Indian pair had participated in Super 1000...</td>\n",
              "      <td>Tokyo Olympics medal contender Satwiksairaj Ra...</td>\n",
              "      <td>Pti</td>\n",
              "      <td>https://indianexpress.com/article/sports/badmi...</td>\n",
              "      <td>0</td>\n",
              "    </tr>\n",
              "    <tr>\n",
              "      <th>...</th>\n",
              "      <td>...</td>\n",
              "      <td>...</td>\n",
              "      <td>...</td>\n",
              "      <td>...</td>\n",
              "      <td>...</td>\n",
              "      <td>...</td>\n",
              "      <td>...</td>\n",
              "      <td>...</td>\n",
              "      <td>...</td>\n",
              "      <td>...</td>\n",
              "      <td>...</td>\n",
              "    </tr>\n",
              "    <tr>\n",
              "      <th>5918</th>\n",
              "      <td>Entertainment</td>\n",
              "      <td>Box-office-collection</td>\n",
              "      <td>English</td>\n",
              "      <td>March 29, 2019</td>\n",
              "      <td>1:19:53 pm</td>\n",
              "      <td>Kesari box office collection Day 8: Akshay Kum...</td>\n",
              "      <td>Kesari box office collection Day 8: Akshay Kum...</td>\n",
              "      <td>Kesari, starring Akshay Kumar in the lead role...</td>\n",
              "      <td>Entertainment desk</td>\n",
              "      <td>https://indianexpress.com/article/entertainmen...</td>\n",
              "      <td>3</td>\n",
              "    </tr>\n",
              "    <tr>\n",
              "      <th>5919</th>\n",
              "      <td>Entertainment</td>\n",
              "      <td>Box-office-collection</td>\n",
              "      <td>English</td>\n",
              "      <td>March 29, 2019</td>\n",
              "      <td>8:12:26 am</td>\n",
              "      <td>Junglee box office prediction: Vidyut Jammwal ...</td>\n",
              "      <td>Junglee box office prediction: Junglee will ha...</td>\n",
              "      <td>Vidyut Jammwal’s Junglee has caught the fancy ...</td>\n",
              "      <td>Arushi jain</td>\n",
              "      <td>https://indianexpress.com/article/entertainmen...</td>\n",
              "      <td>3</td>\n",
              "    </tr>\n",
              "    <tr>\n",
              "      <th>5920</th>\n",
              "      <td>Entertainment</td>\n",
              "      <td>Box-office-collection</td>\n",
              "      <td>English</td>\n",
              "      <td>March 28, 2019</td>\n",
              "      <td>10:47:46 am</td>\n",
              "      <td>Luka Chuppi box office collection Day 26: Kart...</td>\n",
              "      <td>Luka Chuppi box office collection Day 26: Krit...</td>\n",
              "      <td>Kriti Sanon and Kartik Aaryan’s film Luka Chup...</td>\n",
              "      <td>Entertainment desk</td>\n",
              "      <td>https://indianexpress.com/article/entertainmen...</td>\n",
              "      <td>3</td>\n",
              "    </tr>\n",
              "    <tr>\n",
              "      <th>5921</th>\n",
              "      <td>Entertainment</td>\n",
              "      <td>Box-office-collection</td>\n",
              "      <td>English</td>\n",
              "      <td>March 28, 2019</td>\n",
              "      <td>9:14:42 am</td>\n",
              "      <td>Badla box office collection day 20: Going gets...</td>\n",
              "      <td>Badla box office collection day 20: Taapsee Pa...</td>\n",
              "      <td>After more than 2 weeks, Taapsee Pannu’s film ...</td>\n",
              "      <td>Entertainment desk</td>\n",
              "      <td>https://indianexpress.com/article/entertainmen...</td>\n",
              "      <td>3</td>\n",
              "    </tr>\n",
              "    <tr>\n",
              "      <th>5922</th>\n",
              "      <td>Entertainment</td>\n",
              "      <td>Box-office-collection</td>\n",
              "      <td>English</td>\n",
              "      <td>March 28, 2019</td>\n",
              "      <td>1:08:06 pm</td>\n",
              "      <td>Kesari box office collection Day 7: Akshay Kum...</td>\n",
              "      <td>Kesari box office collection Day 7: Akshay Kum...</td>\n",
              "      <td>Akshay Kumar starrer Kesari has become the fas...</td>\n",
              "      <td>Entertainment desk</td>\n",
              "      <td>https://indianexpress.com/article/entertainmen...</td>\n",
              "      <td>3</td>\n",
              "    </tr>\n",
              "  </tbody>\n",
              "</table>\n",
              "<p>5923 rows × 11 columns</p>\n",
              "</div>"
            ],
            "text/plain": [
              "           Category  ... cat\n",
              "0            Sports  ...   0\n",
              "1            Sports  ...   0\n",
              "2            Sports  ...   0\n",
              "3            Sports  ...   0\n",
              "4            Sports  ...   0\n",
              "...             ...  ...  ..\n",
              "5918  Entertainment  ...   3\n",
              "5919  Entertainment  ...   3\n",
              "5920  Entertainment  ...   3\n",
              "5921  Entertainment  ...   3\n",
              "5922  Entertainment  ...   3\n",
              "\n",
              "[5923 rows x 11 columns]"
            ]
          },
          "metadata": {
            "tags": []
          },
          "execution_count": 77
        }
      ]
    },
    {
      "cell_type": "code",
      "metadata": {
        "id": "Fe4CjlsTMXB5",
        "colab": {
          "base_uri": "https://localhost:8080/"
        },
        "outputId": "20726059-2d6a-4ecd-c770-bc7213fe120a"
      },
      "source": [
        "def factorizer(data):\n",
        "  uci = list(data['cat'].unique())\n",
        "  L=[]\n",
        "  for i in range(len(uci)):\n",
        "      L.append(data.groupby(['cat']).get_group(uci[i]))\n",
        "  for i in L:\n",
        "    i['sub_cat'] , f = pd.factorize(i['Sub_Category'])\n",
        "  for i in range(len(L)):\n",
        "    L[i]['luffy'] = L[i]['cat'].astype(str) + '.' + L[i]['sub_cat'].astype(str)\n",
        "  return L\n",
        "\n",
        "L = factorizer(data)\n",
        "L"
      ],
      "execution_count": null,
      "outputs": [
        {
          "output_type": "stream",
          "text": [
            "/usr/local/lib/python3.7/dist-packages/ipykernel_launcher.py:7: SettingWithCopyWarning: \n",
            "A value is trying to be set on a copy of a slice from a DataFrame.\n",
            "Try using .loc[row_indexer,col_indexer] = value instead\n",
            "\n",
            "See the caveats in the documentation: https://pandas.pydata.org/pandas-docs/stable/user_guide/indexing.html#returning-a-view-versus-a-copy\n",
            "  import sys\n",
            "/usr/local/lib/python3.7/dist-packages/ipykernel_launcher.py:9: SettingWithCopyWarning: \n",
            "A value is trying to be set on a copy of a slice from a DataFrame.\n",
            "Try using .loc[row_indexer,col_indexer] = value instead\n",
            "\n",
            "See the caveats in the documentation: https://pandas.pydata.org/pandas-docs/stable/user_guide/indexing.html#returning-a-view-versus-a-copy\n",
            "  if __name__ == '__main__':\n"
          ],
          "name": "stderr"
        },
        {
          "output_type": "execute_result",
          "data": {
            "text/plain": [
              "[     Category   Sub_Category Language  ... cat sub_cat luffy\n",
              " 0      Sports      Badminton  English  ...   0       0   0.0\n",
              " 1      Sports      Badminton  English  ...   0       0   0.0\n",
              " 2      Sports      Badminton  English  ...   0       0   0.0\n",
              " 3      Sports      Badminton  English  ...   0       0   0.0\n",
              " 4      Sports      Badminton  English  ...   0       0   0.0\n",
              " ...       ...            ...      ...  ...  ..     ...   ...\n",
              " 2368   Sports  Wwe-wrestling  English  ...   0       6   0.6\n",
              " 2369   Sports  Wwe-wrestling  English  ...   0       6   0.6\n",
              " 2370   Sports  Wwe-wrestling  English  ...   0       6   0.6\n",
              " 2371   Sports  Wwe-wrestling  English  ...   0       6   0.6\n",
              " 2372   Sports  Wwe-wrestling  English  ...   0       6   0.6\n",
              " \n",
              " [2373 rows x 13 columns],\n",
              "       Category Sub_Category Language  ... cat sub_cat luffy\n",
              " 2373  Business     Aviation  English  ...   1       0   1.0\n",
              " 2374  Business     Aviation  English  ...   1       0   1.0\n",
              " 2375  Business     Aviation  English  ...   1       0   1.0\n",
              " 2376  Business     Aviation  English  ...   1       0   1.0\n",
              " 2377  Business     Aviation  English  ...   1       0   1.0\n",
              " ...        ...          ...      ...  ...  ..     ...   ...\n",
              " 4101  Business       Market  English  ...   1       4   1.4\n",
              " 4102  Business       Market  English  ...   1       4   1.4\n",
              " 4103  Business       Market  English  ...   1       4   1.4\n",
              " 4104  Business       Market  English  ...   1       4   1.4\n",
              " 4105  Business       Market  English  ...   1       4   1.4\n",
              " \n",
              " [1733 rows x 13 columns],\n",
              "         Category Sub_Category Language  ... cat sub_cat luffy\n",
              " 4106  Technology      Gadgets  English  ...   2       0   2.0\n",
              " 4107  Technology      Gadgets  English  ...   2       0   2.0\n",
              " 4108  Technology      Gadgets  English  ...   2       0   2.0\n",
              " 4109  Technology      Gadgets  English  ...   2       0   2.0\n",
              " 4110  Technology      Gadgets  English  ...   2       0   2.0\n",
              " ...          ...          ...      ...  ...  ..     ...   ...\n",
              " 5681  Technology      Techook  English  ...   2       4   2.4\n",
              " 5682  Technology      Techook  English  ...   2       4   2.4\n",
              " 5683  Technology      Techook  English  ...   2       4   2.4\n",
              " 5684  Technology      Techook  English  ...   2       4   2.4\n",
              " 5685  Technology      Techook  English  ...   2       4   2.4\n",
              " \n",
              " [1580 rows x 13 columns],\n",
              "            Category           Sub_Category Language  ... cat sub_cat luffy\n",
              " 5686  Entertainment  Box-office-collection  English  ...   3       0   3.0\n",
              " 5687  Entertainment  Box-office-collection  English  ...   3       0   3.0\n",
              " 5688  Entertainment  Box-office-collection  English  ...   3       0   3.0\n",
              " 5689  Entertainment  Box-office-collection  English  ...   3       0   3.0\n",
              " 5690  Entertainment  Box-office-collection  English  ...   3       0   3.0\n",
              " ...             ...                    ...      ...  ...  ..     ...   ...\n",
              " 5918  Entertainment  Box-office-collection  English  ...   3       0   3.0\n",
              " 5919  Entertainment  Box-office-collection  English  ...   3       0   3.0\n",
              " 5920  Entertainment  Box-office-collection  English  ...   3       0   3.0\n",
              " 5921  Entertainment  Box-office-collection  English  ...   3       0   3.0\n",
              " 5922  Entertainment  Box-office-collection  English  ...   3       0   3.0\n",
              " \n",
              " [237 rows x 13 columns]]"
            ]
          },
          "metadata": {
            "tags": []
          },
          "execution_count": 78
        }
      ]
    },
    {
      "cell_type": "code",
      "metadata": {
        "id": "0-aAtng7MMy7",
        "colab": {
          "base_uri": "https://localhost:8080/"
        },
        "outputId": "6b827fe6-bd79-4de8-8a0b-a59697d7e675"
      },
      "source": [
        "def rand_num_cat(cat):\n",
        "  a , f = pd.factorize(cat)\n",
        "  l = []\n",
        "  for i in f:\n",
        "    k = i + 1\n",
        "    l.append(k) \n",
        "  random_num = random.choice(l)\n",
        "  return random_num\n",
        "\n",
        "def ls_cat(rand_num , cat):\n",
        "  a , f = pd.factorize(cat)\n",
        "  l = []\n",
        "  for i in range(0 , rand_num):\n",
        "    rand_sec = random.choice(f)\n",
        "    l.append(rand_sec)\n",
        "  return list(set(l))\n",
        "\n",
        "\n",
        "def served_cat(num_selection):\n",
        "  num = rand_num_cat(data['cat'])\n",
        "  section = ls_cat(num, data['cat'])\n",
        "  l = []\n",
        "  for g in section:\n",
        "    random_sub_cat = rand_num_cat(L[g]['sub_cat'])\n",
        "    ls_sub_cat = ls_cat(random_sub_cat , L[g]['sub_cat'])\n",
        "    for i in ls_sub_cat:\n",
        "      luffy = str(g) + '.' + str(i)\n",
        "      luffy = float(luffy)\n",
        "      l.append(luffy)\n",
        "\n",
        "  C = []\n",
        "\n",
        "  for i in range (0 , num_selection):\n",
        "      c = random.choice(l)\n",
        "      C.append(c)\n",
        "  return C , ('section', section)\n",
        "\n",
        "cat_served = served_cat(1500)[0]\n",
        "len(cat_served)\n",
        "\n",
        "served_sec = []\n",
        "for n in range(0 , 100):\n",
        "  s = served_cat(1500)[0]\n",
        "  served_sec.append(s)\n",
        "\n",
        "sec = served_sec\n",
        "served_sec = list(itertools.chain.from_iterable(sec))\n",
        "len(served_sec)\n",
        "print(len(time_spent))\n",
        "print(len(usr_id))\n",
        "print(len(click_stream))\n",
        "\n"
      ],
      "execution_count": null,
      "outputs": [
        {
          "output_type": "stream",
          "text": [
            "150000\n",
            "150000\n",
            "150000\n"
          ],
          "name": "stdout"
        }
      ]
    },
    {
      "cell_type": "code",
      "metadata": {
        "id": "CmQZ7p6EV5oV"
      },
      "source": [
        "d={\"Click\":click_stream,\"UserID\":usr_id,\"Time_Spent\":time_spent ,\"served_section\" : served_sec}"
      ],
      "execution_count": null,
      "outputs": []
    },
    {
      "cell_type": "code",
      "metadata": {
        "id": "sx9rZfotV5wc"
      },
      "source": [
        "dtaframe=pd.DataFrame(d)"
      ],
      "execution_count": null,
      "outputs": []
    },
    {
      "cell_type": "code",
      "metadata": {
        "id": "j7gYaMN-V5yn"
      },
      "source": [
        "dtaframe['served_section'] = dtaframe['served_section'].astype('str')\n",
        "dtaframe[['Catagory', 'Sub_Catagory']] = dtaframe.served_section.str.split(\".\",expand=True)\n",
        "dtaframe['Catagory'] = dtaframe['Catagory'].astype('int')\n",
        "dtaframe['Sub_Catagory'] = dtaframe['Sub_Catagory'].astype('int')\n",
        "dtaframe['served_section'] = dtaframe['served_section'].astype('float')\n",
        "dtaframe.to_csv('/content/gdrive/MyDrive/StrawHats projects/StrawHats_clickstream.csv')"
      ],
      "execution_count": null,
      "outputs": []
    },
    {
      "cell_type": "markdown",
      "metadata": {
        "id": "GFHmx5aIyAGv"
      },
      "source": [
        "You can see the csv file in final ipynb notebook"
      ]
    },
    {
      "cell_type": "markdown",
      "metadata": {
        "id": "FUIG8I-gyAD0"
      },
      "source": [
        ""
      ]
    },
    {
      "cell_type": "code",
      "metadata": {
        "id": "1Vyo0kXlnmOe"
      },
      "source": [
        ""
      ],
      "execution_count": null,
      "outputs": []
    },
    {
      "cell_type": "code",
      "metadata": {
        "id": "-PvNp_Mrnmd9"
      },
      "source": [
        ""
      ],
      "execution_count": null,
      "outputs": []
    },
    {
      "cell_type": "code",
      "metadata": {
        "id": "U3TCz7STnmhl"
      },
      "source": [
        "while True:pass"
      ],
      "execution_count": null,
      "outputs": []
    }
  ]
}